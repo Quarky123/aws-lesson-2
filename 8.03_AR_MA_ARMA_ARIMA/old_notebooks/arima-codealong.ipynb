{
 "cells": [
  {
   "cell_type": "markdown",
   "metadata": {},
   "source": [
    "<img src=\"http://imgur.com/1ZcRyrc.png\" style=\"float: left; margin: 20px; height: 55px\">\n",
    "\n",
    "# ARIMA Code-Along\n",
    "\n",
    "_Authors: Joseph Nelson (DC)_\n",
    "\n",
    "---\n",
    "\n",
    "### Learning Objectives\n",
    "- Conduct a Dickey-Fuller test for stationarity and plot the results.\n",
    "- Perform first and second order differencing, as well as seasonal differencing on data.\n",
    "- Plot ACF and PACF with European retail data.\n",
    "- Examine the use of SARIMAX state-space modeling for advanced time series forecasting."
   ]
  },
  {
   "cell_type": "markdown",
   "metadata": {},
   "source": [
    "### Lesson Guide\n",
    "- [Statsmodels' Time Series Tools](#statsmodels-timeseries-tools)\n",
    "- [Bus Ridership Data](#bus-ridership-data)\n",
    "\t- [Clean the Data](#clean-the-data)\n",
    "\t- [Create a Date Index for the Data](#create-a-date-index-for-the-data)\n",
    "- [Plot the Riders Across Months](#plot-the-riders-across-months)\n",
    "- [Decompose the Time Series and Plot](#decompose-the-timeseries-and-plot)\n",
    "- [Dickey-Fuller Test of Stationarity](#dickey-fuller-test-of-stationarity)\n",
    "\t- [Perform a Test on the First-Differenced Time Series](#perform-test-on-the-first-differenced-timeseries)\n",
    "\t- [Perform a Test on *Seasonal*-Differenced Time Series](#perform-test-on-seasonal-differenced-timeseries)\n",
    "\t- [Perform a Test on the First Seasonal-Differenced Time Series](#perform-a-test-on-the-first-seasonal-differenced-timeseries)\n",
    "- [Load the European Retail Data](#load-the-european-retail-data)\n",
    "- [Create Autocorrelation and Partial Autocorrelation Plots](#create-autocorrelation-and-partial-autocorrelation-plots)\n",
    "\t- [Take a Second-Order Difference of the Retail Time Series](#take-a-second-order-difference-of-the-retail-timeseries)\n",
    "- [Seasonal ARIMA With Additional Predictors (SARIMAX)](#seasonal-arima-with-additional-predictors-sarimax)\n",
    "\t- [Forecast Using the SARIMAX Model](#forecast-using-the-sarimax-model)\n",
    "- [Additional Resources](#additional-resources)"
   ]
  },
  {
   "cell_type": "code",
   "execution_count": null,
   "metadata": {},
   "outputs": [],
   "source": [
    "%matplotlib inline\n",
    "import pandas as pd\n",
    "import numpy as np\n",
    "import matplotlib.pyplot as plt\n",
    "from datetime import datetime\n",
    "from datetime import timedelta\n",
    "import seaborn as sns"
   ]
  },
  {
   "cell_type": "markdown",
   "metadata": {},
   "source": [
    "<a id=\"statsmodels-timeseries-tools\"></a>\n",
    "## Statsmodels' Time Series Tools\n",
    "---\n",
    "\n",
    "Statsmodels, offers a wide variety of reliable time series analysis tools. We will start off by loading the autocorrelation and partial autocorrelation functions, as well as a function for decomposing time series."
   ]
  },
  {
   "cell_type": "code",
   "execution_count": null,
   "metadata": {},
   "outputs": [],
   "source": [
    "import statsmodels.api as sm  \n",
    "from statsmodels.tsa.stattools import acf, pacf\n",
    "from statsmodels.graphics.tsaplots import plot_acf, plot_pacf\n",
    "from statsmodels.tsa.seasonal import seasonal_decompose"
   ]
  },
  {
   "cell_type": "markdown",
   "metadata": {},
   "source": [
    "<a id=\"bus-ridership-data\"></a>\n",
    "## Bus Ridership Data\n",
    "---\n",
    "\n",
    "We are going to play around with some Portland, Oregon, bus data. Load in the bus data below and check it out.\n",
    "\n",
    "<a id=\"clean-the-data\"></a>\n",
    "### Clean the Data"
   ]
  },
  {
   "cell_type": "code",
   "execution_count": null,
   "metadata": {},
   "outputs": [],
   "source": [
    "# Data: https://datamarket.com/data/set/22w6/portland-oregon-average-monthly-bus-ridership-100-january-1973-through-june-1982-n114#!ds=22w6&display=line\n",
    "bus = pd.read_csv('./datasets/portland-oregon-average-monthly-.csv')\n",
    "bus.head()"
   ]
  },
  {
   "cell_type": "code",
   "execution_count": null,
   "metadata": {
    "scrolled": false
   },
   "outputs": [],
   "source": [
    "bus.tail()"
   ]
  },
  {
   "cell_type": "markdown",
   "metadata": {},
   "source": [
    "There are a couple of bad rows. Get rid of them."
   ]
  },
  {
   "cell_type": "code",
   "execution_count": null,
   "metadata": {},
   "outputs": [],
   "source": [
    "# A:\n"
   ]
  },
  {
   "cell_type": "code",
   "execution_count": null,
   "metadata": {},
   "outputs": [],
   "source": [
    "bus.info()"
   ]
  },
  {
   "cell_type": "markdown",
   "metadata": {},
   "source": [
    "Make the `riders` column an integer."
   ]
  },
  {
   "cell_type": "code",
   "execution_count": null,
   "metadata": {},
   "outputs": [],
   "source": [
    "# A:\n",
    "bus.columns = ['date', 'riders']\n",
    "bus.riders = bus.riders.apply(lambda x: int(x))\n",
    "bus.riders = bus.riders.astype(int)\n",
    "bus.riders.head()"
   ]
  },
  {
   "cell_type": "markdown",
   "metadata": {},
   "source": [
    "<a id=\"create-a-date-index-for-the-data\"></a>\n",
    "### Create a Date Index for the Data\n",
    "\n",
    "We are going to create an artificial date index using the `relativedelta()` function, as exemplified below. We will simply start at `1973-01-01` and iterate up a month at a time."
   ]
  },
  {
   "cell_type": "code",
   "execution_count": null,
   "metadata": {},
   "outputs": [],
   "source": [
    "# A:\n"
   ]
  },
  {
   "cell_type": "code",
   "execution_count": null,
   "metadata": {},
   "outputs": [],
   "source": [
    "dt = datetime(1973, 1, 1) - datetime(1960, 1, 1)\n",
    "bus.date = bus.date + dt"
   ]
  },
  {
   "cell_type": "code",
   "execution_count": null,
   "metadata": {},
   "outputs": [],
   "source": [
    "bus.set_index('date', inplace=True)"
   ]
  },
  {
   "cell_type": "code",
   "execution_count": null,
   "metadata": {},
   "outputs": [],
   "source": [
    "bus.head()"
   ]
  },
  {
   "cell_type": "markdown",
   "metadata": {},
   "source": [
    "<a id=\"plot-the-riders-across-months\"></a>\n",
    "## Plot the Riders Across Months\n",
    "---\n",
    "\n",
    "We can look at the raw ridership data first."
   ]
  },
  {
   "cell_type": "code",
   "execution_count": null,
   "metadata": {},
   "outputs": [],
   "source": [
    "# A:\n"
   ]
  },
  {
   "cell_type": "markdown",
   "metadata": {},
   "source": [
    "<a id=\"decompose-the-timeseries-and-plot\"></a>\n",
    "## Decompose the Time Series and Plot\n",
    "---\n",
    "\n",
    "Using the `seasonal_decompose()` function, we can break the time series into its constituent parts.\n",
    "\n",
    "Use the function on the `riders` data with a frequency of 12, then plot the data.\n",
    "\n",
    "> **Hint:** The decomposition object from `seasonal_decompose()` has a `.plot()` function, like with Pandas DataFrames."
   ]
  },
  {
   "cell_type": "code",
   "execution_count": null,
   "metadata": {},
   "outputs": [],
   "source": [
    "bus.index = pd.date_range('1/1/1973', periods=len(bus.index), freq='M')"
   ]
  },
  {
   "cell_type": "code",
   "execution_count": null,
   "metadata": {},
   "outputs": [],
   "source": [
    "bus.index"
   ]
  },
  {
   "cell_type": "code",
   "execution_count": null,
   "metadata": {},
   "outputs": [],
   "source": [
    "# A:\n"
   ]
  },
  {
   "cell_type": "markdown",
   "metadata": {
    "collapsed": true
   },
   "source": [
    "**Plot just the seasonal component.**"
   ]
  },
  {
   "cell_type": "code",
   "execution_count": null,
   "metadata": {},
   "outputs": [],
   "source": [
    "# A:\n"
   ]
  },
  {
   "cell_type": "markdown",
   "metadata": {},
   "source": [
    "<a id=\"dickey-fuller-test-of-stationarity\"></a>\n",
    "## Dickey-Fuller Test of Stationarity\n",
    "---\n",
    "\n",
    "[We can perform an (augmented) Dickey-Fuller test of stationarity](https://en.wikipedia.org/wiki/Augmented_Dickey%E2%80%93Fuller_test) to evaluate whether or not the time series is stationary.\n"
   ]
  },
  {
   "cell_type": "code",
   "execution_count": null,
   "metadata": {},
   "outputs": [],
   "source": [
    "# A:\n",
    "# Define a Dickey-Fuller test.\n",
    "from statsmodels.tsa.stattools import adfuller\n",
    "\n",
    "def test_stationarity(timeseries):\n",
    "\n",
    "    # Determining rolling statistics:\n",
    "    rolmean = timeseries.rolling(window=12, center=False).mean()\n",
    "    rolstd = timeseries.rolling(window=12, center=False).std()\n",
    "\n",
    "    # Plotting rolling statistics:\n",
    "    fig = plt.figure(figsize=(12, 8))\n",
    "    orig = plt.plot(timeseries, color='blue',label='Original')\n",
    "    mean = plt.plot(rolmean, color='red', label='Rolling Mean')\n",
    "    std = plt.plot(rolstd, color='black', label = 'Rolling Std')\n",
    "    plt.legend(loc='best')\n",
    "    plt.title('Rolling Mean & Standard Deviation')\n",
    "    plt.show()\n",
    "    \n",
    "    # Performing a Dickey-Fuller test:\n",
    "    print('Results of Dickey-Fuller Test:')\n",
    "    dftest = adfuller(timeseries)\n",
    "    dfoutput = pd.Series(dftest[0:2], index=['Test Statistic','p-value'])\n",
    "    print(dfoutput )"
   ]
  },
  {
   "cell_type": "code",
   "execution_count": null,
   "metadata": {},
   "outputs": [],
   "source": [
    "# Perform test.\n",
    "test_stationarity(bus.riders)"
   ]
  },
  {
   "cell_type": "markdown",
   "metadata": {},
   "source": [
    "<a id=\"perform-test-on-the-first-differenced-timeseries\"></a>\n",
    "### Perform a Test on the First-Differenced Time Series"
   ]
  },
  {
   "cell_type": "code",
   "execution_count": null,
   "metadata": {},
   "outputs": [],
   "source": [
    "# A:\n"
   ]
  },
  {
   "cell_type": "markdown",
   "metadata": {},
   "source": [
    "<a id=\"perform-test-on-seasonal-differenced-timeseries\"></a>\n",
    "### Perform a Test on *Seasonal*-Differenced Time Series\n",
    "\n",
    "Where the season will be a year's difference (12 months)."
   ]
  },
  {
   "cell_type": "code",
   "execution_count": null,
   "metadata": {},
   "outputs": [],
   "source": [
    "# A:\n",
    "# diff() ----  delta_y = y_t - y_{t-1}\n",
    "# diff(12) --- delta_y = y_t - y_{t-12}\n"
   ]
  },
  {
   "cell_type": "markdown",
   "metadata": {},
   "source": [
    "<a id=\"perform-a-test-on-the-first-seasonal-differenced-timeseries\"></a>\n",
    "### Perform a Test on the First Seasonal-Differenced Time Series\n",
    "\n",
    "At this point, we can see that we have a significant result!"
   ]
  },
  {
   "cell_type": "code",
   "execution_count": null,
   "metadata": {},
   "outputs": [],
   "source": [
    "# A:\n"
   ]
  },
  {
   "cell_type": "code",
   "execution_count": null,
   "metadata": {},
   "outputs": [],
   "source": [
    "train_test = bus.dropna()"
   ]
  },
  {
   "cell_type": "code",
   "execution_count": null,
   "metadata": {},
   "outputs": [],
   "source": [
    "train_test.shape"
   ]
  },
  {
   "cell_type": "code",
   "execution_count": null,
   "metadata": {},
   "outputs": [],
   "source": [
    "from statsmodels.tsa.arima_model import ARMA\n",
    "\n",
    "train = train_test.head(80)\n",
    "test = train_test.tail(21)\n",
    "\n",
    "model = ARMA(train.seasonal_first_difference, (2,1)).fit()\n",
    "model.summary()"
   ]
  },
  {
   "cell_type": "code",
   "execution_count": null,
   "metadata": {},
   "outputs": [],
   "source": [
    "# Method 1\n",
    "# based on indices of training date\n",
    "start = len(train) - 1\n",
    "end = start + len(test) - 1  # this is past end of training data\n",
    "\n",
    "# Method 2\n",
    "# based on dates of training data\n",
    "start = test.index[0]\n",
    "end = test.index[-1]\n",
    "\n",
    "predictions_oos = model.predict(start=start, end=end)\n",
    "truth = test.seasonal_first_difference"
   ]
  },
  {
   "cell_type": "code",
   "execution_count": null,
   "metadata": {},
   "outputs": [],
   "source": [
    "from sklearn.metrics import mean_absolute_error\n",
    "\n",
    "mean_absolute_error(truth, predictions_oos)"
   ]
  },
  {
   "cell_type": "markdown",
   "metadata": {},
   "source": [
    "<a id=\"load-the-european-retail-data\"></a>\n",
    "## Load the European Retail Data\n",
    "---\n",
    "\n",
    "Make the index the year and create an initial plot of the data."
   ]
  },
  {
   "cell_type": "code",
   "execution_count": null,
   "metadata": {},
   "outputs": [],
   "source": [
    "df = pd.read_csv('./datasets/euretail.csv')\n",
    "df = df.set_index(['Year'])\n",
    "df = df.stack()\n",
    "df.index = pd.date_range('1/1/1997', freq='Q', periods=len(df.index))"
   ]
  },
  {
   "cell_type": "code",
   "execution_count": null,
   "metadata": {},
   "outputs": [],
   "source": [
    "diff0 = df.diff(periods=4)[4:]\n",
    "diff1 = diff0.diff().dropna()  # 4Q diff and a 1Q diff\n",
    "diff1.plot()"
   ]
  },
  {
   "cell_type": "code",
   "execution_count": null,
   "metadata": {},
   "outputs": [],
   "source": [
    "test_stationarity(diff1)"
   ]
  },
  {
   "cell_type": "markdown",
   "metadata": {},
   "source": [
    "<a id=\"create-autocorrelation-and-partial-autocorrelation-plots\"></a>\n",
    "## Create Autocorrelation and Partial Autocorrelation Plots \n",
    "---\n",
    "\n",
    "Create a first-differenced time series of the retail data, then use `plot_acf` and `plot_pacf`."
   ]
  },
  {
   "cell_type": "code",
   "execution_count": null,
   "metadata": {},
   "outputs": [],
   "source": [
    "from statsmodels.graphics.tsaplots import plot_acf, plot_pacf"
   ]
  },
  {
   "cell_type": "code",
   "execution_count": null,
   "metadata": {
    "scrolled": false
   },
   "outputs": [],
   "source": [
    "# A:\n"
   ]
  },
  {
   "cell_type": "code",
   "execution_count": null,
   "metadata": {},
   "outputs": [],
   "source": [
    "plot_pacf(diff1);"
   ]
  },
  {
   "cell_type": "markdown",
   "metadata": {},
   "source": [
    "<a id=\"take-a-second-order-difference-of-the-retail-timeseries\"></a>\n",
    "### Take a Second-Order Difference of the Retail Time Series\n",
    "\n",
    "Plot the ACF and PACF again with the second-order differenced series."
   ]
  },
  {
   "cell_type": "code",
   "execution_count": null,
   "metadata": {},
   "outputs": [],
   "source": [
    "# A:"
   ]
  },
  {
   "cell_type": "markdown",
   "metadata": {},
   "source": [
    "<a id=\"seasonal-arima-with-additional-predictors-sarimax\"></a>\n",
    "## Seasonal ARIMA With Additional Predictors (SARIMAX)\n",
    "---\n",
    "\n",
    "The [SARIMAX model](http://www.statsmodels.org/dev/generated/statsmodels.tsa.statespace.sarimax.SARIMAX.html) is an advanced state-space model that allows us to build a seasonal ARIMA and also take into account the effects of other predictors.\n",
    "\n",
    "The granular details of SARIMAX are beyond the scope of this walk-through, but we can build a model and use it to forecast as an example of Statsmodels' powerful time series analysis capabilities."
   ]
  },
  {
   "cell_type": "code",
   "execution_count": null,
   "metadata": {},
   "outputs": [],
   "source": [
    "df.head()"
   ]
  },
  {
   "cell_type": "code",
   "execution_count": null,
   "metadata": {},
   "outputs": [],
   "source": [
    "# AR(1), SAR(1)\n",
    "# y_t = c + beta_1 * y_{t-1} + beta_{s,1} * y_{t-S}\n",
    "\n",
    "df = pd.read_csv('./datasets/euretail.csv')\n",
    "df = df.set_index(['Year'])\n",
    "df = df.stack()\n",
    "\n",
    "import statsmodels.api as sm\n",
    "\n",
    "p = 0  # quarterly model\n",
    "d = 1\n",
    "q = 1\n",
    "\n",
    "P = 0  # seasonal model\n",
    "D = 1\n",
    "Q = 1\n",
    "\n",
    "s = 4  # 4 quarters per \"Season\"\n",
    "\n",
    "model = sm.tsa.statespace.SARIMAX(df.values, \n",
    "                                  order=(p,d,q), \n",
    "                                  seasonal_order=(P,D,Q,s))\n",
    "results = model.fit()\n",
    "results.summary()"
   ]
  },
  {
   "cell_type": "markdown",
   "metadata": {},
   "source": [
    "**Plot the residuals of the SARIMAX model.**"
   ]
  },
  {
   "cell_type": "code",
   "execution_count": null,
   "metadata": {},
   "outputs": [],
   "source": [
    "# A:\n"
   ]
  },
  {
   "cell_type": "markdown",
   "metadata": {},
   "source": [
    "**Plot the ACF and PACF of the residuals.**\n",
    "\n",
    "What should we expect from the ACF and PACF of our residuals if the model is good?"
   ]
  },
  {
   "cell_type": "code",
   "execution_count": null,
   "metadata": {},
   "outputs": [],
   "source": [
    "# A:"
   ]
  },
  {
   "cell_type": "markdown",
   "metadata": {},
   "source": [
    "**Increase the order of the SARIMAX model.**\n",
    "\n",
    "How do the results change?"
   ]
  },
  {
   "cell_type": "code",
   "execution_count": null,
   "metadata": {},
   "outputs": [],
   "source": [
    "# A:\n"
   ]
  },
  {
   "cell_type": "markdown",
   "metadata": {},
   "source": [
    "<a id=\"forecast-using-the-sarimax-model\"></a>\n",
    "### Forecast Using the SARIMAX Model\n",
    "\n",
    "Statsmodels result objects from SARIMAX have a `.forecast()` function that can use the state-space model to predict out to future time points.\n",
    "\n",
    "Forecast 12 additional time points and plot them."
   ]
  },
  {
   "cell_type": "code",
   "execution_count": null,
   "metadata": {},
   "outputs": [],
   "source": [
    "# Forecasting:\n",
    "res = model.fit()\n",
    "preds = res.forecast(36)\n",
    "fcast = np.concatenate((df.values, preds), axis=0)\n",
    "\n",
    "plt.figure();\n",
    "plt.plot(df.values, 'o' , fcast, 'r--');"
   ]
  },
  {
   "cell_type": "markdown",
   "metadata": {},
   "source": [
    "<a id='additional-resources'></a>\n",
    "## Additional Resources\n",
    "---\n",
    "\n",
    "+ A Soft Introduction to [Akaike Information Criteria](https://coolstatsblog.com/2013/08/14/using-aic-to-test-arima-models-2/)\n",
    "+ A [Video Introduction](https://www.youtube.com/watch?v=YkD7ydzp9_E) to AIC\n",
    "+ [Wikipedia's Entry on AIC](https://en.wikipedia.org/wiki/Akaike_information_criterion)\n",
    "+ A Seasonal ARIMA [Code-Along](http://www.statsmodels.org/dev/examples/notebooks/generated/statespace_sarimax_stata.html) From Statsmodels\n",
    "+ An excellent [Blog Code-Along](http://www.seanabu.com/2016/03/22/time-series-seasonal-ARIMA-model-in-python/) to Seasonal ARIMA + [iPython Notebook](https://github.com/seanabu/seanabu.github.io/blob/master/Seasonal_ARIMA_model_Portland_transit.ipynb)\n",
    "+ Duke's Breakdown of [ACF and PACF](http://people.duke.edu/~rnau/411arim3.htm)\n",
    "+ Duke's Breakdown of Available [Stationarity Transformations](http://people.duke.edu/~rnau/whatuse.htm)\n",
    "+ A 35-Minute [Video Econometric](https://www.youtube.com/watch?v=Y2khrpVo6qI) Breakdown of ARIMA\n",
    "+ [Wikipedia's Entry on Dickey-Fuller](https://en.wikipedia.org/wiki/Dickey%E2%80%93Fuller_test)\n",
    "+ Stats Exchange's Breakdown of [Augmented Dickey-Fuller](http://stats.stackexchange.com/questions/44647/which-dickey-fuller-test-should-i-apply-to-a-time-series-with-an-underlying-mode)\n",
    "+ Compliments of Jonathan: A Walk-Through of Selecting PDQ from [Duke](http://people.duke.edu/~rnau/411arim.htm)\n",
    "+ Compliments of Jonathan, Pt. 2: A Big Data Analytics With ARIMA [Case Study](http://sda-pakdd2014.weebly.com/uploads/2/4/0/8/24088081/7w12.pdf)\n",
    "+ Bonus: Check Out [Granger Causality Tests](https://en.wikipedia.org/wiki/Granger_causality)\n"
   ]
  }
 ],
 "metadata": {
  "kernelspec": {
   "display_name": "Python 3",
   "language": "python",
   "name": "python3"
  },
  "language_info": {
   "codemirror_mode": {
    "name": "ipython",
    "version": 3
   },
   "file_extension": ".py",
   "mimetype": "text/x-python",
   "name": "python",
   "nbconvert_exporter": "python",
   "pygments_lexer": "ipython3",
   "version": "3.8.3"
  }
 },
 "nbformat": 4,
 "nbformat_minor": 2
}
