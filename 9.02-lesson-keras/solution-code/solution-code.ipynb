{
 "cells": [
  {
   "cell_type": "markdown",
   "metadata": {},
   "source": [
    "<img src=\"http://imgur.com/1ZcRyrc.png\" style=\"float: left; margin: 20px; height: 55px\">\n",
    "\n",
    "# Neural Networks with Keras\n",
    "\n",
    "_Authors: Justin Pounders (ATL) and Riley Dallas (ATX)_\n",
    "\n",
    "---\n",
    "\n",
    "\n",
    "### Learning Objectives\n",
    "\n",
    "- Describe the basic `keras` workflow.\n",
    "- Train regression and classification neural networks using `keras`"
   ]
  },
  {
   "cell_type": "code",
   "execution_count": 1,
   "metadata": {},
   "outputs": [],
   "source": [
    "import numpy as np\n",
    "from sklearn.datasets import make_classification, make_regression\n",
    "from sklearn.preprocessing import StandardScaler\n",
    "from sklearn.model_selection import train_test_split\n",
    "import matplotlib.pyplot as plt\n",
    "\n",
    "from keras.models import Sequential\n",
    "from keras.layers import Dense\n",
    "from keras.utils import to_categorical\n",
    "\n",
    "%matplotlib inline"
   ]
  },
  {
   "cell_type": "markdown",
   "metadata": {},
   "source": [
    "# Regression\n",
    "---\n",
    "\n",
    "`make_regression` is an excellent library for generating a random regression problem. This helps us focus on the model without having to worry about the dataset. \n",
    "\n",
    "In the cell below, use `make_regression` to generate 10,000 samples using 20 features."
   ]
  },
  {
   "cell_type": "code",
   "execution_count": 2,
   "metadata": {},
   "outputs": [],
   "source": [
    "X, y = make_regression(n_samples=10000, n_features=20, random_state=42)"
   ]
  },
  {
   "cell_type": "markdown",
   "metadata": {},
   "source": [
    "### Train/Test Split\n",
    "---\n",
    "\n",
    "We always want to have a validation set to test our model. Use the `train_test_split` function to split our `X` and `y` variables into a training set and a holdout set."
   ]
  },
  {
   "cell_type": "code",
   "execution_count": 3,
   "metadata": {},
   "outputs": [],
   "source": [
    "X_train, X_test, y_train, y_test = train_test_split(X, y, random_state=42)"
   ]
  },
  {
   "cell_type": "markdown",
   "metadata": {},
   "source": [
    "### `StandardScaler`\n",
    "---\n",
    "\n",
    "You want to scale your data for *any* model that uses Gradient Descent, which includes Neural Networks."
   ]
  },
  {
   "cell_type": "code",
   "execution_count": 4,
   "metadata": {},
   "outputs": [],
   "source": [
    "ss = StandardScaler()\n",
    "X_train_sc = ss.fit_transform(X_train)\n",
    "X_test_sc = ss.transform(X_test)"
   ]
  },
  {
   "cell_type": "markdown",
   "metadata": {},
   "source": [
    "### Your first Neural Network!!\n",
    "---\n",
    "\n",
    "Next stop, [The Singularity](https://en.wikipedia.org/wiki/Technological_singularity)!\n",
    "\n",
    "Creating a model in `keras` entails a few steps:\n",
    "1. Create your network topology\n",
    "2. Compile your model\n",
    "3. Fit your model\n",
    "\n",
    "We'll cover each step in the cells below.\n",
    "\n",
    "### Create your network topology\n",
    "---\n",
    "\n",
    "We'll create a simple network with:\n",
    "- an input layer\n",
    "- one hidden layer. As a general rule, you should use `'relu'` as your activation function for all hidden layers.\n",
    "- an output layer. \n",
    "\n",
    "For *all* regression problems, your output layer will be 1 neuron with *no* activation function. "
   ]
  },
  {
   "cell_type": "code",
   "execution_count": 5,
   "metadata": {},
   "outputs": [],
   "source": [
    "model = Sequential()\n",
    "model.add(Dense(32, # How many neurons do you want in your first layer.\n",
    "                input_shape=(20,),\n",
    "                activation='relu'))\n",
    "model.add(Dense(1))"
   ]
  },
  {
   "cell_type": "markdown",
   "metadata": {},
   "source": [
    "### Compile your model\n",
    "---\n",
    "\n",
    "Whenever you compile your model, you have to specify a few things: \n",
    "1. What [loss function](https://keras.io/losses/) to use (depends on if it's regression, classification, etc)\n",
    "2. What optimizer to use (Always use `'adam'`)\n",
    "3. Optional: What additional [metrics](https://keras.io/metrics/) you'd like to monitor"
   ]
  },
  {
   "cell_type": "code",
   "execution_count": 6,
   "metadata": {},
   "outputs": [],
   "source": [
    "model.compile(loss='mse', optimizer='adam', metrics=['mae'])"
   ]
  },
  {
   "cell_type": "markdown",
   "metadata": {
    "collapsed": true
   },
   "source": [
    "### Fit your model\n",
    "---\n",
    "\n",
    "When fitting your model, you need to specify a few things:\n",
    "1. The number of epochs: start with 10. Always easy to add more\n",
    "2. Your batch size: pick a number that is a power of 2\n",
    "3. Your validation data, which in this case is our test set."
   ]
  },
  {
   "cell_type": "code",
   "execution_count": 7,
   "metadata": {},
   "outputs": [
    {
     "name": "stdout",
     "output_type": "stream",
     "text": [
      "Epoch 1/10\n",
      " 1/15 [=>............................] - ETA: 0s - loss: 39136.4883 - mae: 159.6371WARNING:tensorflow:Callbacks method `on_train_batch_end` is slow compared to the batch time (batch time: 0.0000s vs `on_train_batch_end` time: 0.0010s). Check your callbacks.\n",
      "15/15 [==============================] - 0s 13ms/step - loss: 40197.0117 - mae: 160.5275 - val_loss: 39393.1719 - val_mae: 158.8949\n",
      "Epoch 2/10\n",
      "15/15 [==============================] - 0s 2ms/step - loss: 40130.4531 - mae: 160.3943 - val_loss: 39327.6523 - val_mae: 158.7625\n",
      "Epoch 3/10\n",
      "15/15 [==============================] - 0s 2ms/step - loss: 40061.4453 - mae: 160.2558 - val_loss: 39257.4414 - val_mae: 158.6200\n",
      "Epoch 4/10\n",
      "15/15 [==============================] - 0s 2ms/step - loss: 39985.8164 - mae: 160.1042 - val_loss: 39179.2422 - val_mae: 158.4606\n",
      "Epoch 5/10\n",
      "15/15 [==============================] - 0s 2ms/step - loss: 39900.2227 - mae: 159.9323 - val_loss: 39089.3438 - val_mae: 158.2760\n",
      "Epoch 6/10\n",
      "15/15 [==============================] - 0s 2ms/step - loss: 39800.4961 - mae: 159.7307 - val_loss: 38984.1875 - val_mae: 158.0602\n",
      "Epoch 7/10\n",
      "15/15 [==============================] - 0s 2ms/step - loss: 39685.1523 - mae: 159.4964 - val_loss: 38860.3008 - val_mae: 157.8046\n",
      "Epoch 8/10\n",
      "15/15 [==============================] - 0s 2ms/step - loss: 39547.9375 - mae: 159.2178 - val_loss: 38716.3984 - val_mae: 157.5066\n",
      "Epoch 9/10\n",
      "15/15 [==============================] - 0s 2ms/step - loss: 39389.4766 - mae: 158.8945 - val_loss: 38547.6992 - val_mae: 157.1562\n",
      "Epoch 10/10\n",
      "15/15 [==============================] - 0s 2ms/step - loss: 39205.9531 - mae: 158.5159 - val_loss: 38352.6094 - val_mae: 156.7488\n"
     ]
    },
    {
     "data": {
      "text/plain": [
       "<tensorflow.python.keras.callbacks.History at 0x128d1bb0>"
      ]
     },
     "execution_count": 7,
     "metadata": {},
     "output_type": "execute_result"
    }
   ],
   "source": [
    "model.fit(X_train_sc, y_train, validation_data=(X_test_sc, y_test), epochs=10, batch_size=512)"
   ]
  },
  {
   "cell_type": "markdown",
   "metadata": {
    "collapsed": true
   },
   "source": [
    "### Model predictions\n",
    "---\n",
    "\n",
    "Your `keras` model has a `.fit()` method, similar to `sklearn`. The only difference is `keras` returns a 2D `numpy` matrix (`sklearn` returns a 1D `numpy` array).\n",
    "\n",
    "Try it out in the cell below."
   ]
  },
  {
   "cell_type": "code",
   "execution_count": 8,
   "metadata": {},
   "outputs": [
    {
     "data": {
      "text/plain": [
       "array([[ 3.6781015 ],\n",
       "       [-1.1114028 ],\n",
       "       [ 4.0236177 ],\n",
       "       ...,\n",
       "       [ 0.12662236],\n",
       "       [ 1.718688  ],\n",
       "       [-5.9151845 ]], dtype=float32)"
      ]
     },
     "execution_count": 8,
     "metadata": {},
     "output_type": "execute_result"
    }
   ],
   "source": [
    "model.predict(X_test_sc)"
   ]
  },
  {
   "cell_type": "markdown",
   "metadata": {},
   "source": [
    "# Binary Classification\n",
    "---\n",
    "\n",
    "`make_classification` is similar to `make_regression`, except now we're predicting a class (0 or 1).\n",
    "\n",
    "In the cell below, use `make_classification` to generate 10,000 samples using 20 features."
   ]
  },
  {
   "cell_type": "code",
   "execution_count": 9,
   "metadata": {},
   "outputs": [],
   "source": [
    "X, y = make_classification(n_samples=10_000, n_features=20, random_state=42)"
   ]
  },
  {
   "cell_type": "markdown",
   "metadata": {},
   "source": [
    "### Train/Test Split\n",
    "---\n",
    "\n",
    "We always want to have a validation set to test our model. Use the `train_test_split` function to split our `X` and `y` variables into a training set and a holdout set."
   ]
  },
  {
   "cell_type": "code",
   "execution_count": 10,
   "metadata": {},
   "outputs": [],
   "source": [
    "X_train, X_test, y_train, y_test = train_test_split(X, y, random_state=42, stratify=y)"
   ]
  },
  {
   "cell_type": "markdown",
   "metadata": {},
   "source": [
    "### `StandardScaler`\n",
    "---\n",
    "\n",
    "You want to scale your data for *any* model that uses Gradient Descent, which includes Neural Networks."
   ]
  },
  {
   "cell_type": "code",
   "execution_count": 11,
   "metadata": {},
   "outputs": [],
   "source": [
    "ss = StandardScaler()\n",
    "X_train_sc = ss.fit_transform(X_train)\n",
    "X_test_sc = ss.transform(X_test)"
   ]
  },
  {
   "cell_type": "markdown",
   "metadata": {},
   "source": [
    "### Network Topology for Binary Classification\n",
    "---\n",
    "\n",
    "We'll create a simple network with:\n",
    "- an input layer, \n",
    "- one hidden layer. As a general rule, you should use `'relu'` as your activation function for all hidden layers.\n",
    "- an output layer. \n",
    "\n",
    "For *all* binary classification problems, your output layer will be 1 neuron with `'sigmoid'` activation function. Sigmoid squashes the output of our neuron to a value between 0 and 1, which is great for predicting probabilities. We'll use the probability for our loss function in the next step."
   ]
  },
  {
   "cell_type": "code",
   "execution_count": 12,
   "metadata": {},
   "outputs": [],
   "source": [
    "model = Sequential()\n",
    "model.add(Dense(32,\n",
    "                input_shape=(20,),\n",
    "                activation='relu'))\n",
    "model.add(Dense(1, activation='sigmoid'))"
   ]
  },
  {
   "cell_type": "markdown",
   "metadata": {},
   "source": [
    "### Compile your model\n",
    "---\n",
    "\n",
    "Whenever you compile your model, you have to specify a few things: \n",
    "1. What loss function to use: For binary classification, use `binary_crossentropy`. ([Description](https://ml-cheatsheet.readthedocs.io/en/latest/loss_functions.html#cross-entropy))\n",
    "2. What optimizer to use (Always use `'adam'`)\n",
    "3. Optional: What additional [metrics](https://keras.io/metrics/) you'd like to monitor"
   ]
  },
  {
   "cell_type": "code",
   "execution_count": 13,
   "metadata": {},
   "outputs": [],
   "source": [
    "model.compile(loss='binary_crossentropy', metrics=['accuracy'], optimizer='adam')"
   ]
  },
  {
   "cell_type": "markdown",
   "metadata": {},
   "source": [
    "### Fit your model\n",
    "---\n",
    "\n",
    "When fitting your model, you need to specify a few things:\n",
    "1. The number of epochs: start with 10. Always easy to add more\n",
    "2. Your batch size: pick a number that is a power of 2\n",
    "3. Your validation data, which in this case is our test set.\n",
    "\n",
    "When you fit a model, `keras` returns a `History` object. We need that in the next step, but for now, just save it to a variable."
   ]
  },
  {
   "cell_type": "code",
   "execution_count": 14,
   "metadata": {},
   "outputs": [],
   "source": [
    "history = model.fit(X_train_sc, y_train, validation_data=(X_test_sc, y_test), epochs=30, batch_size=512, verbose=0)"
   ]
  },
  {
   "cell_type": "markdown",
   "metadata": {},
   "source": [
    "### Visualizing model training\n",
    "---\n",
    "\n",
    "Whenever you fit your `keras` model, it returns a `History` object ([link](https://keras.io/visualization/#training-history-visualization)) that can be used for plotting."
   ]
  },
  {
   "cell_type": "code",
   "execution_count": 15,
   "metadata": {},
   "outputs": [
    {
     "data": {
      "image/png": "[encoded data removed]",
      "text/plain": [
       "<Figure size 432x288 with 1 Axes>"
      ]
     },
     "metadata": {
      "needs_background": "light"
     },
     "output_type": "display_data"
    }
   ],
   "source": [
    "plt.plot(history.history['loss'], label='Train loss')\n",
    "plt.plot(history.history['val_loss'], label='Val Loss')\n",
    "plt.legend();"
   ]
  },
  {
   "cell_type": "markdown",
   "metadata": {},
   "source": [
    "### Challenge\n",
    "---\n",
    "\n",
    "Using the `history` object, plot the model's accuracy (for both train and test)."
   ]
  },
  {
   "cell_type": "code",
   "execution_count": 16,
   "metadata": {},
   "outputs": [
    {
     "data": {
      "image/png": "[encoded data removed]",
      "text/plain": [
       "<Figure size 432x288 with 1 Axes>"
      ]
     },
     "metadata": {
      "needs_background": "light"
     },
     "output_type": "display_data"
    }
   ],
   "source": [
    "plt.plot(history.history['accuracy'], label='Train accuracy')\n",
    "plt.plot(history.history['val_accuracy'], label='Val accuracy')\n",
    "plt.legend();"
   ]
  },
  {
   "cell_type": "markdown",
   "metadata": {},
   "source": [
    "# Multi-class Classification\n",
    "---\n",
    "\n",
    "The `make_classification` function allows for multi-class problems as well. Simply increase the `n_classes` and voila!\n",
    "\n",
    "**NOTE**: You'll need to increase `n_informative` as you increase `n_classes`.\n",
    "\n",
    "In the cell below, let's create a dataset with three classes."
   ]
  },
  {
   "cell_type": "code",
   "execution_count": 17,
   "metadata": {},
   "outputs": [],
   "source": [
    "X, y = make_classification(n_samples=10000, n_features=20, n_informative=4, n_classes=3)"
   ]
  },
  {
   "cell_type": "markdown",
   "metadata": {},
   "source": [
    "### One-hot Encoding Targets\n",
    "---\n",
    "\n",
    "In `keras`, you have to one-hot encode your `y` if it contains more than two classes. We'll use `keras`' built-in `to_categorical` function to achieve this."
   ]
  },
  {
   "cell_type": "code",
   "execution_count": 18,
   "metadata": {},
   "outputs": [
    {
     "data": {
      "text/plain": [
       "array([[1., 0., 0.],\n",
       "       [1., 0., 0.],\n",
       "       [0., 1., 0.],\n",
       "       [0., 0., 1.],\n",
       "       [0., 1., 0.]], dtype=float32)"
      ]
     },
     "execution_count": 18,
     "metadata": {},
     "output_type": "execute_result"
    }
   ],
   "source": [
    "y = to_categorical(y)\n",
    "y[:5]"
   ]
  },
  {
   "cell_type": "markdown",
   "metadata": {},
   "source": [
    "### Train/Test Split\n",
    "---\n",
    "\n",
    "We always want to have a holdout set to test our model. Use the `train_test_split` function to split our `X` and `y` variables into a training set and a holdout set."
   ]
  },
  {
   "cell_type": "code",
   "execution_count": 19,
   "metadata": {},
   "outputs": [],
   "source": [
    "X_train, X_test, y_train, y_test = train_test_split(X, y, random_state=42)"
   ]
  },
  {
   "cell_type": "markdown",
   "metadata": {},
   "source": [
    "### `StandardScaler`\n",
    "---\n",
    "\n",
    "Use an instance of `StandardScaler` to scale your `X_train` and `X_test` in the cell below."
   ]
  },
  {
   "cell_type": "code",
   "execution_count": 20,
   "metadata": {},
   "outputs": [],
   "source": [
    "ss = StandardScaler()\n",
    "X_train_sc = ss.fit_transform(X_train)\n",
    "X_test_sc = ss.transform(X_test)"
   ]
  },
  {
   "cell_type": "markdown",
   "metadata": {},
   "source": [
    "### Network Topology for Multi-class Classification\n",
    "---\n",
    "\n",
    "We'll create a simple network with:\n",
    "- an input layer\n",
    "- one hidden layer. As a general rule, you should use `'relu'` as your activation function for all hidden layers.\n",
    "- an output layer\n",
    "\n",
    "For *all* multi-class classification problems, your output layer will be the same number of neurons as the number of classes in your problem. The activation function will be `softmax`, which will normalize the predictions into probabilities that sum up to 1.0."
   ]
  },
  {
   "cell_type": "code",
   "execution_count": 21,
   "metadata": {},
   "outputs": [],
   "source": [
    "model = Sequential()\n",
    "model.add(Dense(32, \n",
    "                input_shape=(20,),\n",
    "                activation='relu'))\n",
    "model.add(Dense(3, activation='softmax'))"
   ]
  },
  {
   "cell_type": "markdown",
   "metadata": {},
   "source": [
    "### Compile your model\n",
    "---\n",
    "\n",
    "Whenever you compile your model, you have to specify a few things: \n",
    "1. What loss function to use: For multi-class classification, use `categorical_crossentropy`. ([Description](https://ml-cheatsheet.readthedocs.io/en/latest/loss_functions.html#cross-entropy))\n",
    "2. What optimizer to use (Always use `'adam'`)\n",
    "3. Optional: What additional [metrics](https://keras.io/metrics/) you'd like to monitor"
   ]
  },
  {
   "cell_type": "code",
   "execution_count": 22,
   "metadata": {},
   "outputs": [],
   "source": [
    "model.compile(loss='categorical_crossentropy', optimizer='adam', metrics=['accuracy'])"
   ]
  },
  {
   "cell_type": "markdown",
   "metadata": {},
   "source": [
    "### Fit your model\n",
    "---\n",
    "\n",
    "When fitting your model, you need to specify a few things:\n",
    "1. The number of epochs: start with 10. Always easy to add more\n",
    "2. Your batch size: pick a number that is a power of 2\n",
    "3. Your validation data, which in this case is our test set."
   ]
  },
  {
   "cell_type": "code",
   "execution_count": 23,
   "metadata": {},
   "outputs": [
    {
     "name": "stdout",
     "output_type": "stream",
     "text": [
      "Epoch 1/10\n",
      "15/15 [==============================] - 0s 11ms/step - loss: 1.1696 - accuracy: 0.3689 - val_loss: 1.1177 - val_accuracy: 0.4136\n",
      "Epoch 2/10\n",
      "15/15 [==============================] - 0s 2ms/step - loss: 1.0723 - accuracy: 0.4313 - val_loss: 1.0397 - val_accuracy: 0.4688\n",
      "Epoch 3/10\n",
      "15/15 [==============================] - 0s 3ms/step - loss: 1.0109 - accuracy: 0.4747 - val_loss: 0.9877 - val_accuracy: 0.5048\n",
      "Epoch 4/10\n",
      "15/15 [==============================] - 0s 2ms/step - loss: 0.9666 - accuracy: 0.5085 - val_loss: 0.9497 - val_accuracy: 0.5216\n",
      "Epoch 5/10\n",
      "15/15 [==============================] - 0s 3ms/step - loss: 0.9322 - accuracy: 0.5371 - val_loss: 0.9187 - val_accuracy: 0.5452\n",
      "Epoch 6/10\n",
      "15/15 [==============================] - 0s 2ms/step - loss: 0.9026 - accuracy: 0.5612 - val_loss: 0.8916 - val_accuracy: 0.5768\n",
      "Epoch 7/10\n",
      "15/15 [==============================] - 0s 2ms/step - loss: 0.8762 - accuracy: 0.5796 - val_loss: 0.8674 - val_accuracy: 0.5912\n",
      "Epoch 8/10\n",
      "15/15 [==============================] - 0s 2ms/step - loss: 0.8515 - accuracy: 0.5968 - val_loss: 0.8442 - val_accuracy: 0.6064\n",
      "Epoch 9/10\n",
      "15/15 [==============================] - 0s 2ms/step - loss: 0.8280 - accuracy: 0.6181 - val_loss: 0.8227 - val_accuracy: 0.6240\n",
      "Epoch 10/10\n",
      "15/15 [==============================] - 0s 2ms/step - loss: 0.8058 - accuracy: 0.6365 - val_loss: 0.8017 - val_accuracy: 0.6412\n"
     ]
    }
   ],
   "source": [
    "history = model.fit(X_train_sc, y_train, validation_data=(X_test_sc, y_test), epochs=10, batch_size=512)"
   ]
  },
  {
   "cell_type": "markdown",
   "metadata": {},
   "source": [
    "### Visualizing model training\n",
    "---\n",
    "\n",
    "Whenever you fit your `keras` model, it returns a `History` object ([link](https://keras.io/visualization/#training-history-visualization)) that can be used for plotting."
   ]
  },
  {
   "cell_type": "code",
   "execution_count": 24,
   "metadata": {
    "scrolled": true
   },
   "outputs": [
    {
     "data": {
      "image/png": "[encoded data removed]",
      "text/plain": [
       "<Figure size 432x288 with 1 Axes>"
      ]
     },
     "metadata": {
      "needs_background": "light"
     },
     "output_type": "display_data"
    }
   ],
   "source": [
    "plt.plot(history.history['loss'], label='Train loss')\n",
    "plt.plot(history.history['val_loss'], label='Val Loss')\n",
    "plt.legend();"
   ]
  },
  {
   "cell_type": "markdown",
   "metadata": {},
   "source": [
    "### Challenge\n",
    "---\n",
    "\n",
    "Using the `history` object, plot the model's accuracy (for both train and test)."
   ]
  },
  {
   "cell_type": "code",
   "execution_count": 25,
   "metadata": {},
   "outputs": [
    {
     "ename": "KeyError",
     "evalue": "'acc'",
     "output_type": "error",
     "traceback": [
      "\u001b[1;31m---------------------------------------------------------------------------\u001b[0m",
      "\u001b[1;31mKeyError\u001b[0m                                  Traceback (most recent call last)",
      "\u001b[1;32m<ipython-input-25-0a05879ba14a>\u001b[0m in \u001b[0;36m<module>\u001b[1;34m\u001b[0m\n\u001b[1;32m----> 1\u001b[1;33m \u001b[0mplt\u001b[0m\u001b[1;33m.\u001b[0m\u001b[0mplot\u001b[0m\u001b[1;33m(\u001b[0m\u001b[0mhistory\u001b[0m\u001b[1;33m.\u001b[0m\u001b[0mhistory\u001b[0m\u001b[1;33m[\u001b[0m\u001b[1;34m'acc'\u001b[0m\u001b[1;33m]\u001b[0m\u001b[1;33m,\u001b[0m \u001b[0mlabel\u001b[0m\u001b[1;33m=\u001b[0m\u001b[1;34m'Train accuracy'\u001b[0m\u001b[1;33m)\u001b[0m\u001b[1;33m\u001b[0m\u001b[1;33m\u001b[0m\u001b[0m\n\u001b[0m\u001b[0;32m      2\u001b[0m \u001b[0mplt\u001b[0m\u001b[1;33m.\u001b[0m\u001b[0mplot\u001b[0m\u001b[1;33m(\u001b[0m\u001b[0mhistory\u001b[0m\u001b[1;33m.\u001b[0m\u001b[0mhistory\u001b[0m\u001b[1;33m[\u001b[0m\u001b[1;34m'val_acc'\u001b[0m\u001b[1;33m]\u001b[0m\u001b[1;33m,\u001b[0m \u001b[0mlabel\u001b[0m\u001b[1;33m=\u001b[0m\u001b[1;34m'Val accuracy'\u001b[0m\u001b[1;33m)\u001b[0m\u001b[1;33m\u001b[0m\u001b[1;33m\u001b[0m\u001b[0m\n\u001b[0;32m      3\u001b[0m \u001b[0mplt\u001b[0m\u001b[1;33m.\u001b[0m\u001b[0mlegend\u001b[0m\u001b[1;33m(\u001b[0m\u001b[1;33m)\u001b[0m\u001b[1;33m;\u001b[0m\u001b[1;33m\u001b[0m\u001b[1;33m\u001b[0m\u001b[0m\n",
      "\u001b[1;31mKeyError\u001b[0m: 'acc'"
     ]
    }
   ],
   "source": [
    "plt.plot(history.history['acc'], label='Train accuracy')\n",
    "plt.plot(history.history['val_acc'], label='Val accuracy')\n",
    "plt.legend();"
   ]
  }
 ],
 "metadata": {
  "kernelspec": {
   "display_name": "Python 3",
   "language": "python",
   "name": "python3"
  },
  "language_info": {
   "codemirror_mode": {
    "name": "ipython",
    "version": 3
   },
   "file_extension": ".py",
   "mimetype": "text/x-python",
   "name": "python",
   "nbconvert_exporter": "python",
   "pygments_lexer": "ipython3",
   "version": "3.8.3"
  }
 },
 "nbformat": 4,
 "nbformat_minor": 2
}
